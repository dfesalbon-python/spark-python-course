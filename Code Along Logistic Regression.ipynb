{
 "cells": [
  {
   "cell_type": "code",
   "execution_count": 39,
   "id": "28ec27a4",
   "metadata": {},
   "outputs": [],
   "source": [
    "import findspark\n",
    "findspark.init('/home/danielf/spark-3.3.1-bin-hadoop3')\n",
    "import pyspark\n",
    "from pyspark.sql import SparkSession\n",
    "from pyspark.ml.feature import (VectorAssembler, VectorIndexer, OneHotEncoder, StringIndexer)\n",
    "from pyspark.ml.classification import LogisticRegression\n",
    "from pyspark.ml import Pipeline\n",
    "from pyspark.ml.evaluation import BinaryClassificationEvaluator"
   ]
  },
  {
   "cell_type": "code",
   "execution_count": 2,
   "id": "d1b54df2",
   "metadata": {},
   "outputs": [
    {
     "name": "stdout",
     "output_type": "stream",
     "text": [
      "23/02/21 17:32:08 WARN Utils: Your hostname, spark resolves to a loopback address: 127.0.1.1; using 10.0.2.15 instead (on interface enp0s3)\n",
      "23/02/21 17:32:08 WARN Utils: Set SPARK_LOCAL_IP if you need to bind to another address\n"
     ]
    },
    {
     "name": "stderr",
     "output_type": "stream",
     "text": [
      "Setting default log level to \"WARN\".\n",
      "To adjust logging level use sc.setLogLevel(newLevel). For SparkR, use setLogLevel(newLevel).\n"
     ]
    },
    {
     "name": "stdout",
     "output_type": "stream",
     "text": [
      "23/02/21 17:32:10 WARN NativeCodeLoader: Unable to load native-hadoop library for your platform... using builtin-java classes where applicable\n",
      "23/02/21 17:32:12 WARN Utils: Service 'SparkUI' could not bind on port 4040. Attempting port 4041.\n",
      "23/02/21 17:32:12 WARN Utils: Service 'SparkUI' could not bind on port 4041. Attempting port 4042.\n"
     ]
    }
   ],
   "source": [
    "spark = SparkSession.builder.appName('lrcode').getOrCreate()"
   ]
  },
  {
   "cell_type": "code",
   "execution_count": 10,
   "id": "c7641c09",
   "metadata": {},
   "outputs": [],
   "source": [
    "path = '/home/danielf/Desktop/pyspark-course-udemy/Spark_for_Machine_Learning/Logistic_Regression/titanic.csv'\n",
    "df = spark.read.csv(path, header=True, inferSchema=True)"
   ]
  },
  {
   "cell_type": "code",
   "execution_count": 11,
   "id": "a0dc3f21",
   "metadata": {},
   "outputs": [
    {
     "data": {
      "text/plain": [
       "['PassengerId',\n",
       " 'Survived',\n",
       " 'Pclass',\n",
       " 'Name',\n",
       " 'Sex',\n",
       " 'Age',\n",
       " 'SibSp',\n",
       " 'Parch',\n",
       " 'Ticket',\n",
       " 'Fare',\n",
       " 'Cabin',\n",
       " 'Embarked']"
      ]
     },
     "execution_count": 11,
     "metadata": {},
     "output_type": "execute_result"
    }
   ],
   "source": [
    "df.columns"
   ]
  },
  {
   "cell_type": "code",
   "execution_count": 27,
   "id": "bb032e14",
   "metadata": {},
   "outputs": [],
   "source": [
    "cols = df.select([\n",
    " 'Survived',\n",
    " 'Pclass',\n",
    " 'Sex',\n",
    " 'Age',\n",
    " 'SibSp',\n",
    " 'Parch',\n",
    " 'Fare',\n",
    " 'Embarked'])"
   ]
  },
  {
   "cell_type": "code",
   "execution_count": 28,
   "id": "bb44624f",
   "metadata": {},
   "outputs": [
    {
     "name": "stdout",
     "output_type": "stream",
     "text": [
      "root\n",
      " |-- Survived: integer (nullable = true)\n",
      " |-- Pclass: integer (nullable = true)\n",
      " |-- Sex: string (nullable = true)\n",
      " |-- Age: double (nullable = true)\n",
      " |-- SibSp: integer (nullable = true)\n",
      " |-- Parch: integer (nullable = true)\n",
      " |-- Fare: double (nullable = true)\n",
      " |-- Embarked: string (nullable = true)\n",
      "\n"
     ]
    }
   ],
   "source": [
    "final_df = cols.na.drop()\n",
    "final_df.printSchema()"
   ]
  },
  {
   "cell_type": "code",
   "execution_count": 31,
   "id": "c892303a",
   "metadata": {},
   "outputs": [],
   "source": [
    "gender_indexer = StringIndexer(inputCol='Sex', outputCol='SexIndex')\n",
    "gender_encoder = OneHotEncoder(inputCol='SexIndex', outputCol='SexVec')\n",
    "\n",
    "embark_indexer = StringIndexer(inputCol='Embarked', outputCol='EmbarkedIndex')\n",
    "embark_encoder = OneHotEncoder(inputCol='EmbarkedIndex', outputCol='EmbarkedVec')"
   ]
  },
  {
   "cell_type": "code",
   "execution_count": 32,
   "id": "aa74f00d",
   "metadata": {},
   "outputs": [],
   "source": [
    "assembler = VectorAssembler(inputCols=['Pclass', 'SexVec', 'EmbarkedVec', 'Age', \n",
    "                                       'SibSp', 'Parch', 'Fare'], outputCol='features')"
   ]
  },
  {
   "cell_type": "code",
   "execution_count": 33,
   "id": "22607922",
   "metadata": {},
   "outputs": [],
   "source": [
    "lr = LogisticRegression(featuresCol='features', labelCol='Survived')"
   ]
  },
  {
   "cell_type": "code",
   "execution_count": 34,
   "id": "85d98a43",
   "metadata": {},
   "outputs": [],
   "source": [
    "pipeline = Pipeline(stages=[gender_indexer, embark_indexer, gender_encoder, embark_encoder, assembler, lr])"
   ]
  },
  {
   "cell_type": "code",
   "execution_count": 52,
   "id": "0c1eb17f",
   "metadata": {},
   "outputs": [
    {
     "name": "stdout",
     "output_type": "stream",
     "text": [
      "+--------+------+------+----+-----+-----+--------+--------+\n",
      "|Survived|Pclass|   Sex| Age|SibSp|Parch|    Fare|Embarked|\n",
      "+--------+------+------+----+-----+-----+--------+--------+\n",
      "|       0|     1|female| 2.0|    1|    2|  151.55|       S|\n",
      "|       0|     1|  male|19.0|    1|    0|    53.1|       S|\n",
      "|       0|     1|  male|22.0|    0|    0|135.6333|       C|\n",
      "|       0|     1|  male|24.0|    0|    0|    79.2|       C|\n",
      "|       0|     1|  male|27.0|    0|    2|   211.5|       C|\n",
      "|       0|     1|  male|28.0|    0|    0|    47.1|       S|\n",
      "|       0|     1|  male|29.0|    0|    0|    30.0|       S|\n",
      "|       0|     1|  male|33.0|    0|    0|     5.0|       S|\n",
      "|       0|     1|  male|36.0|    1|    0|   78.85|       S|\n",
      "|       0|     1|  male|39.0|    0|    0|     0.0|       S|\n",
      "|       0|     1|  male|45.0|    1|    0|  83.475|       S|\n",
      "|       0|     1|  male|46.0|    0|    0|    79.2|       C|\n",
      "|       0|     1|  male|47.0|    0|    0| 34.0208|       S|\n",
      "|       0|     1|  male|49.0|    1|    1|110.8833|       C|\n",
      "|       0|     1|  male|50.0|    1|    0|    55.9|       S|\n",
      "|       0|     1|  male|50.0|    1|    0| 106.425|       C|\n",
      "|       0|     1|  male|51.0|    0|    1| 61.3792|       C|\n",
      "|       0|     1|  male|52.0|    1|    1|   79.65|       S|\n",
      "|       0|     1|  male|58.0|    0|    2| 113.275|       C|\n",
      "|       0|     1|  male|61.0|    0|    0|    33.5|       S|\n",
      "+--------+------+------+----+-----+-----+--------+--------+\n",
      "only showing top 20 rows\n",
      "\n"
     ]
    }
   ],
   "source": [
    "train, test = final_df.randomSplit([0.7, 0.3])\n",
    "test.show()"
   ]
  },
  {
   "cell_type": "code",
   "execution_count": 50,
   "id": "c6e12f10",
   "metadata": {},
   "outputs": [],
   "source": [
    "fit_lr = pipeline.fit(train)"
   ]
  },
  {
   "cell_type": "code",
   "execution_count": 51,
   "id": "ee0e570b",
   "metadata": {},
   "outputs": [
    {
     "data": {
      "text/plain": [
       "Row(Survived=0, Pclass=1, Sex='female', Age=2.0, SibSp=1, Parch=2, Fare=151.55, Embarked='S', SexIndex=1.0, EmbarkedIndex=0.0, SexVec=SparseVector(1, {}), EmbarkedVec=SparseVector(2, {0: 1.0}), features=DenseVector([1.0, 0.0, 1.0, 0.0, 2.0, 1.0, 2.0, 151.55]), rawPrediction=DenseVector([-4.0631, 4.0631]), probability=DenseVector([0.0169, 0.9831]), prediction=1.0)"
      ]
     },
     "execution_count": 51,
     "metadata": {},
     "output_type": "execute_result"
    }
   ],
   "source": [
    "results = fit_lr.transform(test)\n",
    "results.head()"
   ]
  },
  {
   "cell_type": "code",
   "execution_count": 40,
   "id": "80e5c9b6",
   "metadata": {},
   "outputs": [],
   "source": [
    "myeval = BinaryClassificationEvaluator(rawPredictionCol='prediction', labelCol='Survived')"
   ]
  },
  {
   "cell_type": "code",
   "execution_count": 45,
   "id": "81839348",
   "metadata": {},
   "outputs": [],
   "source": [
    "auc = myeval.evaluate(results)"
   ]
  },
  {
   "cell_type": "code",
   "execution_count": 43,
   "id": "8e473980",
   "metadata": {},
   "outputs": [
    {
     "name": "stdout",
     "output_type": "stream",
     "text": [
      "+--------+----------+\n",
      "|Survived|prediction|\n",
      "+--------+----------+\n",
      "|       0|       1.0|\n",
      "|       0|       1.0|\n",
      "|       0|       1.0|\n",
      "|       0|       1.0|\n",
      "|       0|       1.0|\n",
      "|       0|       1.0|\n",
      "|       0|       0.0|\n",
      "|       0|       0.0|\n",
      "|       0|       0.0|\n",
      "|       0|       0.0|\n",
      "|       0|       0.0|\n",
      "|       0|       0.0|\n",
      "|       0|       0.0|\n",
      "|       0|       0.0|\n",
      "|       0|       0.0|\n",
      "|       0|       0.0|\n",
      "|       0|       0.0|\n",
      "|       0|       0.0|\n",
      "|       0|       0.0|\n",
      "|       0|       0.0|\n",
      "+--------+----------+\n",
      "only showing top 20 rows\n",
      "\n"
     ]
    }
   ],
   "source": [
    "results.select('Survived', 'prediction').show()"
   ]
  },
  {
   "cell_type": "code",
   "execution_count": 46,
   "id": "d78bdc5f",
   "metadata": {},
   "outputs": [
    {
     "data": {
      "text/plain": [
       "0.7786970458286407"
      ]
     },
     "execution_count": 46,
     "metadata": {},
     "output_type": "execute_result"
    }
   ],
   "source": [
    "auc"
   ]
  }
 ],
 "metadata": {
  "kernelspec": {
   "display_name": "Python 3 (ipykernel)",
   "language": "python",
   "name": "python3"
  },
  "language_info": {
   "codemirror_mode": {
    "name": "ipython",
    "version": 3
   },
   "file_extension": ".py",
   "mimetype": "text/x-python",
   "name": "python",
   "nbconvert_exporter": "python",
   "pygments_lexer": "ipython3",
   "version": "3.10.6"
  }
 },
 "nbformat": 4,
 "nbformat_minor": 5
}
